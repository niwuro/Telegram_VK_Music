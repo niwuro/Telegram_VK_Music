{
 "cells": [
  {
   "cell_type": "code",
   "execution_count": 1,
   "metadata": {
    "collapsed": true
   },
   "outputs": [],
   "source": [
    "import numpy\n",
    "import pandas as pd\n",
    "import time\n",
    "from telethon import TelegramClient\n",
    "from telethon.tl.functions.messages import GetBotCallbackAnswerRequest\n",
    "from telethon.tl.functions.messages import GetInlineBotResultsRequest\n",
    "from telethon.tl.functions.messages import SendInlineBotResultRequest\n",
    "from telethon.tl.types import InputPeerUser\n",
    "from telethon.tl.functions.messages import GetHistoryRequest\n",
    "from telethon.tl.types import InputPeerEmpty\n",
    "import re\n",
    "import math"
   ]
  },
  {
   "cell_type": "code",
   "execution_count": 2,
   "metadata": {
    "collapsed": true
   },
   "outputs": [],
   "source": [
    "#Use https://my.telegram.org/auth?to=apps to get ur api id and hash\n",
    "api_id = \"\"\n",
    "api_hash = \"\"\n",
    "password = \"\" #pass for 2 step verification"
   ]
  },
  {
   "cell_type": "code",
   "execution_count": 3,
   "metadata": {
    "collapsed": true
   },
   "outputs": [],
   "source": [
    "def Loggin_Telegram(api_id, api_hash, password=\"\"):\n",
    "    client = TelegramClient('session_name', api_id, api_hash)\n",
    "    client_session = client.start(password = password)\n",
    "    return client_session"
   ]
  },
  {
   "cell_type": "code",
   "execution_count": 4,
   "metadata": {
    "collapsed": true
   },
   "outputs": [],
   "source": [
    "user = Loggin_Telegram(api_id, api_hash, password)"
   ]
  },
  {
   "cell_type": "code",
   "execution_count": 5,
   "metadata": {},
   "outputs": [
    {
     "data": {
      "text/plain": [
       "True"
      ]
     },
     "execution_count": 5,
     "metadata": {},
     "output_type": "execute_result"
    }
   ],
   "source": [
    "#Check login status\n",
    "user.is_user_authorized()"
   ]
  },
  {
   "cell_type": "code",
   "execution_count": 6,
   "metadata": {
    "collapsed": true
   },
   "outputs": [],
   "source": [
    "VKM_Bot = user.get_entity('VKM_Bot')"
   ]
  },
  {
   "cell_type": "code",
   "execution_count": 7,
   "metadata": {
    "collapsed": true
   },
   "outputs": [],
   "source": [
    "def send_song_request(song_name):\n",
    "    user.send_message('VKM_Bot', song_name)"
   ]
  },
  {
   "cell_type": "code",
   "execution_count": 1,
   "metadata": {
    "collapsed": true
   },
   "outputs": [],
   "source": [
    "def get_song_list():\n",
    "    msg = user.get_message_history(VKM_Bot)\n",
    "    bot_answer = ((msg[0].stringify()))\n",
    "    listed_answer = list(bot_answer.split(\"\\n\"))\n",
    "    \n",
    "    for i in listed_answer:\n",
    "        if len(i) >= 60:\n",
    "            song_names = list(i.split(\"\\\\n\")) \n",
    "        else:\n",
    "            pass \n",
    "    return song_names"
   ]
  },
  {
   "cell_type": "code",
   "execution_count": 11,
   "metadata": {
    "collapsed": true
   },
   "outputs": [],
   "source": [
    "def press_prev_button():\n",
    "    msg = user.get_message_history(VKM_Bot)\n",
    "    next_page = user(GetBotCallbackAnswerRequest(\n",
    "    VKM_Bot,\n",
    "    msg[0].id,\n",
    "    data = b'S_PREV_PAGE'\n",
    "))\n",
    "\n",
    "def press_next_button():\n",
    "    msg = user.get_message_history(VKM_Bot)\n",
    "    next_page = user(GetBotCallbackAnswerRequest(\n",
    "    VKM_Bot,\n",
    "    msg[0].id,\n",
    "    data = b'S_NEXT_PAGE'\n",
    "))"
   ]
  },
  {
   "cell_type": "code",
   "execution_count": 15,
   "metadata": {
    "collapsed": true
   },
   "outputs": [],
   "source": [
    "def get_allsong_list(song_name):\n",
    "    send_song_request(song_name)\n",
    "    time.sleep(0.1)\n",
    "    song = get_song_list()\n",
    "    number_of_songs = re.findall('(\\d+)', song[0])\n",
    "    how_many_pressnext = math.ceil(int(number_of_songs[2])/6)\n",
    "\n",
    "    all_song = []\n",
    "    if how_many_pressnext > 10:\n",
    "        for i in range(10):\n",
    "            song_list = get_song_list()\n",
    "            all_song += song_list[1:]\n",
    "            time.sleep(0.25)\n",
    "            press_next_button()\n",
    "            time.sleep(0.25)\n",
    "    else:\n",
    "        for i in range(how_many_pressnext):\n",
    "            song_list = get_song_list()\n",
    "            all_song += song_list[1:]\n",
    "            time.sleep(0.25)\n",
    "            press_next_button()\n",
    "            time.sleep(0.25)\n",
    "    return all_song"
   ]
  },
  {
   "cell_type": "code",
   "execution_count": 27,
   "metadata": {
    "collapsed": true
   },
   "outputs": [],
   "source": [
    "def choose_song(number):\n",
    "    user.send_message('VKM_Bot', \"/{}\".format(number))\n",
    "    time.sleep(0.25)\n",
    "    msg = user.get_message_history(VKM_Bot)\n",
    "    song_info = ((msg[0].stringify()))\n",
    "    return print(song_info)"
   ]
  },
  {
   "cell_type": "code",
   "execution_count": 18,
   "metadata": {
    "collapsed": true
   },
   "outputs": [],
   "source": [
    "metal = get_allsong_list('metallica')"
   ]
  },
  {
   "cell_type": "code",
   "execution_count": 23,
   "metadata": {},
   "outputs": [
    {
     "data": {
      "text/plain": [
       "'/5 Fifth Harmony vs. System Of A … vs. Queen – The Rock Harmony 3:26 8.0/320'"
      ]
     },
     "execution_count": 23,
     "metadata": {},
     "output_type": "execute_result"
    }
   ],
   "source": [
    "metal[4]"
   ]
  },
  {
   "cell_type": "code",
   "execution_count": 34,
   "metadata": {},
   "outputs": [
    {
     "name": "stdout",
     "output_type": "stream",
     "text": [
      "Message(\n",
      "\tout=False,\n",
      "\tdate=datetime.utcfromtimestamp(1516826326),\n",
      "\tpost=False,\n",
      "\tmedia_unread=False,\n",
      "\tmessage='',\n",
      "\tedit_date=None,\n",
      "\tviews=None,\n",
      "\tto_id=PeerUser(\n",
      "\t\tuser_id=59026954\n",
      "\t),\n",
      "\tentities=None,\n",
      "\tvia_bot_id=None,\n",
      "\tid=592974,\n",
      "\tmentioned=False,\n",
      "\treply_markup=None,\n",
      "\tsilent=False,\n",
      "\tpost_author=None,\n",
      "\treply_to_msg_id=None,\n",
      "\tfrom_id=177767196,\n",
      "\tfwd_from=None,\n",
      "\tmedia=MessageMediaDocument(\n",
      "\t\tttl_seconds=None,\n",
      "\t\tcaption=None,\n",
      "\t\tdocument=Document(\n",
      "\t\t\tdc_id=2,\n",
      "\t\t\tsize=13203356,\n",
      "\t\t\tid=763504293123191447,\n",
      "\t\t\tdate=datetime.utcfromtimestamp(1481558877),\n",
      "\t\t\taccess_hash=-8089746902266489379,\n",
      "\t\t\tattributes=[\n",
      "\t\t\t\tDocumentAttributeAudio(\n",
      "\t\t\t\t\ttitle='3.For Whom The Bell Tolls ',\n",
      "\t\t\t\t\twaveform=None,\n",
      "\t\t\t\t\tperformer='Metallica (Ride the Lightning 1984)',\n",
      "\t\t\t\t\tvoice=False,\n",
      "\t\t\t\t\tduration=330\n",
      "\t\t\t\t),\n",
      "\t\t\t\tDocumentAttributeFilename(\n",
      "\t\t\t\t\tfile_name='Metallica_Ride_the_Lightning_1984.mp3'\n",
      "\t\t\t\t),\n",
      "\t\t\t],\n",
      "\t\t\tversion=0,\n",
      "\t\t\tthumb=PhotoSizeEmpty(\n",
      "\t\t\t\ttype=''\n",
      "\t\t\t),\n",
      "\t\t\tmime_type='audio/mpeg'\n",
      "\t\t)\n",
      "\t),\n",
      "\tgrouped_id=None\n",
      ")\n"
     ]
    }
   ],
   "source": [
    "asd = choose_song(1)"
   ]
  },
  {
   "cell_type": "code",
   "execution_count": 32,
   "metadata": {
    "collapsed": true
   },
   "outputs": [],
   "source": []
  },
  {
   "cell_type": "code",
   "execution_count": 35,
   "metadata": {
    "collapsed": true
   },
   "outputs": [],
   "source": []
  },
  {
   "cell_type": "code",
   "execution_count": 37,
   "metadata": {
    "collapsed": true
   },
   "outputs": [],
   "source": []
  },
  {
   "cell_type": "code",
   "execution_count": null,
   "metadata": {
    "collapsed": true
   },
   "outputs": [],
   "source": []
  }
 ],
 "metadata": {
  "kernelspec": {
   "display_name": "Python 3",
   "language": "python",
   "name": "python3"
  },
  "language_info": {
   "codemirror_mode": {
    "name": "ipython",
    "version": 3
   },
   "file_extension": ".py",
   "mimetype": "text/x-python",
   "name": "python",
   "nbconvert_exporter": "python",
   "pygments_lexer": "ipython3",
   "version": "3.6.1"
  }
 },
 "nbformat": 4,
 "nbformat_minor": 1
}
